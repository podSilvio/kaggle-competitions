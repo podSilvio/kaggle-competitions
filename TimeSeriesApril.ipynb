{
 "cells": [
  {
   "cell_type": "markdown",
   "id": "5442bb1f",
   "metadata": {},
   "source": [
    "# Tabular Playground Series - Apr 2022"
   ]
  },
  {
   "cell_type": "markdown",
   "id": "262ddc27",
   "metadata": {},
   "source": [
    "This is a notebook for Kaggle competition of tabular playground in April 2022. We are given 12 sensor data and based on those values, we need to perform a binary classification. Let's start!"
   ]
  },
  {
   "cell_type": "markdown",
   "id": "b92c28c8",
   "metadata": {},
   "source": [
    "## Import libraries: "
   ]
  },
  {
   "cell_type": "code",
   "execution_count": 135,
   "id": "c43cae00",
   "metadata": {},
   "outputs": [],
   "source": [
    "import scipy as sp\n",
    "import pandas as pd\n",
    "import numpy as np"
   ]
  },
  {
   "cell_type": "markdown",
   "id": "9156ddf1",
   "metadata": {},
   "source": [
    "# EDA (Exploratory Data Analysis)"
   ]
  },
  {
   "cell_type": "markdown",
   "id": "fede7e26",
   "metadata": {},
   "source": [
    "### Check variables and observations in test and train data"
   ]
  },
  {
   "cell_type": "markdown",
   "id": "c595016f",
   "metadata": {},
   "source": [
    "#### Train data"
   ]
  },
  {
   "cell_type": "code",
   "execution_count": 136,
   "id": "12e4e549",
   "metadata": {},
   "outputs": [],
   "source": [
    "df_train = pd.read_csv('train.csv')"
   ]
  },
  {
   "cell_type": "code",
   "execution_count": 137,
   "id": "f52b6e94",
   "metadata": {},
   "outputs": [
    {
     "data": {
      "text/html": [
       "<div>\n",
       "<style scoped>\n",
       "    .dataframe tbody tr th:only-of-type {\n",
       "        vertical-align: middle;\n",
       "    }\n",
       "\n",
       "    .dataframe tbody tr th {\n",
       "        vertical-align: top;\n",
       "    }\n",
       "\n",
       "    .dataframe thead th {\n",
       "        text-align: right;\n",
       "    }\n",
       "</style>\n",
       "<table border=\"1\" class=\"dataframe\">\n",
       "  <thead>\n",
       "    <tr style=\"text-align: right;\">\n",
       "      <th></th>\n",
       "      <th>sequence</th>\n",
       "      <th>subject</th>\n",
       "      <th>step</th>\n",
       "      <th>sensor_00</th>\n",
       "      <th>sensor_01</th>\n",
       "      <th>sensor_02</th>\n",
       "      <th>sensor_03</th>\n",
       "      <th>sensor_04</th>\n",
       "      <th>sensor_05</th>\n",
       "      <th>sensor_06</th>\n",
       "      <th>sensor_07</th>\n",
       "      <th>sensor_08</th>\n",
       "      <th>sensor_09</th>\n",
       "      <th>sensor_10</th>\n",
       "      <th>sensor_11</th>\n",
       "      <th>sensor_12</th>\n",
       "    </tr>\n",
       "  </thead>\n",
       "  <tbody>\n",
       "    <tr>\n",
       "      <th>0</th>\n",
       "      <td>0</td>\n",
       "      <td>47</td>\n",
       "      <td>0</td>\n",
       "      <td>-0.196291</td>\n",
       "      <td>0.112395</td>\n",
       "      <td>1.0</td>\n",
       "      <td>0.329204</td>\n",
       "      <td>-1.004660</td>\n",
       "      <td>-0.131638</td>\n",
       "      <td>-0.127505</td>\n",
       "      <td>0.368702</td>\n",
       "      <td>-0.1</td>\n",
       "      <td>-0.963873</td>\n",
       "      <td>-0.985069</td>\n",
       "      <td>0.531893</td>\n",
       "      <td>4.751492</td>\n",
       "    </tr>\n",
       "    <tr>\n",
       "      <th>1</th>\n",
       "      <td>0</td>\n",
       "      <td>47</td>\n",
       "      <td>1</td>\n",
       "      <td>-0.447450</td>\n",
       "      <td>0.134454</td>\n",
       "      <td>1.0</td>\n",
       "      <td>-0.658407</td>\n",
       "      <td>0.162495</td>\n",
       "      <td>0.340314</td>\n",
       "      <td>-0.209472</td>\n",
       "      <td>-0.867176</td>\n",
       "      <td>0.2</td>\n",
       "      <td>-0.301301</td>\n",
       "      <td>0.082733</td>\n",
       "      <td>-0.231481</td>\n",
       "      <td>0.454390</td>\n",
       "    </tr>\n",
       "    <tr>\n",
       "      <th>2</th>\n",
       "      <td>0</td>\n",
       "      <td>47</td>\n",
       "      <td>2</td>\n",
       "      <td>0.326893</td>\n",
       "      <td>-0.694328</td>\n",
       "      <td>1.0</td>\n",
       "      <td>0.330088</td>\n",
       "      <td>0.473678</td>\n",
       "      <td>1.280479</td>\n",
       "      <td>-0.094718</td>\n",
       "      <td>0.535878</td>\n",
       "      <td>1.4</td>\n",
       "      <td>1.002168</td>\n",
       "      <td>0.449221</td>\n",
       "      <td>-0.586420</td>\n",
       "      <td>-4.736147</td>\n",
       "    </tr>\n",
       "    <tr>\n",
       "      <th>3</th>\n",
       "      <td>0</td>\n",
       "      <td>47</td>\n",
       "      <td>3</td>\n",
       "      <td>0.523184</td>\n",
       "      <td>0.751050</td>\n",
       "      <td>1.0</td>\n",
       "      <td>0.976991</td>\n",
       "      <td>-0.563287</td>\n",
       "      <td>-0.720269</td>\n",
       "      <td>0.793260</td>\n",
       "      <td>0.951145</td>\n",
       "      <td>-0.3</td>\n",
       "      <td>-0.995665</td>\n",
       "      <td>-0.434290</td>\n",
       "      <td>1.344650</td>\n",
       "      <td>0.429241</td>\n",
       "    </tr>\n",
       "    <tr>\n",
       "      <th>4</th>\n",
       "      <td>0</td>\n",
       "      <td>47</td>\n",
       "      <td>4</td>\n",
       "      <td>0.272025</td>\n",
       "      <td>1.074580</td>\n",
       "      <td>1.0</td>\n",
       "      <td>-0.136283</td>\n",
       "      <td>0.398579</td>\n",
       "      <td>0.044877</td>\n",
       "      <td>0.560109</td>\n",
       "      <td>-0.541985</td>\n",
       "      <td>-0.9</td>\n",
       "      <td>1.055636</td>\n",
       "      <td>0.812631</td>\n",
       "      <td>0.123457</td>\n",
       "      <td>-0.223359</td>\n",
       "    </tr>\n",
       "  </tbody>\n",
       "</table>\n",
       "</div>"
      ],
      "text/plain": [
       "   sequence  subject  step  sensor_00  sensor_01  sensor_02  sensor_03  \\\n",
       "0         0       47     0  -0.196291   0.112395        1.0   0.329204   \n",
       "1         0       47     1  -0.447450   0.134454        1.0  -0.658407   \n",
       "2         0       47     2   0.326893  -0.694328        1.0   0.330088   \n",
       "3         0       47     3   0.523184   0.751050        1.0   0.976991   \n",
       "4         0       47     4   0.272025   1.074580        1.0  -0.136283   \n",
       "\n",
       "   sensor_04  sensor_05  sensor_06  sensor_07  sensor_08  sensor_09  \\\n",
       "0  -1.004660  -0.131638  -0.127505   0.368702       -0.1  -0.963873   \n",
       "1   0.162495   0.340314  -0.209472  -0.867176        0.2  -0.301301   \n",
       "2   0.473678   1.280479  -0.094718   0.535878        1.4   1.002168   \n",
       "3  -0.563287  -0.720269   0.793260   0.951145       -0.3  -0.995665   \n",
       "4   0.398579   0.044877   0.560109  -0.541985       -0.9   1.055636   \n",
       "\n",
       "   sensor_10  sensor_11  sensor_12  \n",
       "0  -0.985069   0.531893   4.751492  \n",
       "1   0.082733  -0.231481   0.454390  \n",
       "2   0.449221  -0.586420  -4.736147  \n",
       "3  -0.434290   1.344650   0.429241  \n",
       "4   0.812631   0.123457  -0.223359  "
      ]
     },
     "execution_count": 137,
     "metadata": {},
     "output_type": "execute_result"
    }
   ],
   "source": [
    "df_train.head()"
   ]
  },
  {
   "cell_type": "code",
   "execution_count": 138,
   "id": "467612f1",
   "metadata": {},
   "outputs": [
    {
     "data": {
      "text/plain": [
       "(1558080, 16)"
      ]
     },
     "execution_count": 138,
     "metadata": {},
     "output_type": "execute_result"
    }
   ],
   "source": [
    "df_train.shape"
   ]
  },
  {
   "cell_type": "markdown",
   "id": "9a6f4e0d",
   "metadata": {},
   "source": [
    "#### Test data"
   ]
  },
  {
   "cell_type": "code",
   "execution_count": 139,
   "id": "4273cc6e",
   "metadata": {},
   "outputs": [],
   "source": [
    "df_test = pd.read_csv('test.csv')"
   ]
  },
  {
   "cell_type": "code",
   "execution_count": 140,
   "id": "11631312",
   "metadata": {},
   "outputs": [
    {
     "data": {
      "text/html": [
       "<div>\n",
       "<style scoped>\n",
       "    .dataframe tbody tr th:only-of-type {\n",
       "        vertical-align: middle;\n",
       "    }\n",
       "\n",
       "    .dataframe tbody tr th {\n",
       "        vertical-align: top;\n",
       "    }\n",
       "\n",
       "    .dataframe thead th {\n",
       "        text-align: right;\n",
       "    }\n",
       "</style>\n",
       "<table border=\"1\" class=\"dataframe\">\n",
       "  <thead>\n",
       "    <tr style=\"text-align: right;\">\n",
       "      <th></th>\n",
       "      <th>sequence</th>\n",
       "      <th>subject</th>\n",
       "      <th>step</th>\n",
       "      <th>sensor_00</th>\n",
       "      <th>sensor_01</th>\n",
       "      <th>sensor_02</th>\n",
       "      <th>sensor_03</th>\n",
       "      <th>sensor_04</th>\n",
       "      <th>sensor_05</th>\n",
       "      <th>sensor_06</th>\n",
       "      <th>sensor_07</th>\n",
       "      <th>sensor_08</th>\n",
       "      <th>sensor_09</th>\n",
       "      <th>sensor_10</th>\n",
       "      <th>sensor_11</th>\n",
       "      <th>sensor_12</th>\n",
       "    </tr>\n",
       "  </thead>\n",
       "  <tbody>\n",
       "    <tr>\n",
       "      <th>0</th>\n",
       "      <td>25968</td>\n",
       "      <td>684</td>\n",
       "      <td>0</td>\n",
       "      <td>2.427357</td>\n",
       "      <td>19.639706</td>\n",
       "      <td>1.0</td>\n",
       "      <td>-1.466372</td>\n",
       "      <td>-1.289973</td>\n",
       "      <td>-4.207928</td>\n",
       "      <td>2.486339</td>\n",
       "      <td>-2.493893</td>\n",
       "      <td>8.0</td>\n",
       "      <td>-1.123555</td>\n",
       "      <td>-1.673048</td>\n",
       "      <td>10.980453</td>\n",
       "      <td>0.419011</td>\n",
       "    </tr>\n",
       "    <tr>\n",
       "      <th>1</th>\n",
       "      <td>25968</td>\n",
       "      <td>684</td>\n",
       "      <td>1</td>\n",
       "      <td>-4.950541</td>\n",
       "      <td>-21.747899</td>\n",
       "      <td>1.0</td>\n",
       "      <td>0.983186</td>\n",
       "      <td>-0.569053</td>\n",
       "      <td>1.845924</td>\n",
       "      <td>-3.887978</td>\n",
       "      <td>1.727481</td>\n",
       "      <td>-2.9</td>\n",
       "      <td>0.395231</td>\n",
       "      <td>-0.882233</td>\n",
       "      <td>-1.871399</td>\n",
       "      <td>-0.008525</td>\n",
       "    </tr>\n",
       "    <tr>\n",
       "      <th>2</th>\n",
       "      <td>25968</td>\n",
       "      <td>684</td>\n",
       "      <td>2</td>\n",
       "      <td>1.136012</td>\n",
       "      <td>-10.756303</td>\n",
       "      <td>1.0</td>\n",
       "      <td>1.016814</td>\n",
       "      <td>0.964157</td>\n",
       "      <td>2.454749</td>\n",
       "      <td>0.312386</td>\n",
       "      <td>1.154198</td>\n",
       "      <td>-5.6</td>\n",
       "      <td>1.114162</td>\n",
       "      <td>1.525273</td>\n",
       "      <td>-11.584362</td>\n",
       "      <td>0.139812</td>\n",
       "    </tr>\n",
       "    <tr>\n",
       "      <th>3</th>\n",
       "      <td>25968</td>\n",
       "      <td>684</td>\n",
       "      <td>3</td>\n",
       "      <td>0.806028</td>\n",
       "      <td>6.504202</td>\n",
       "      <td>1.0</td>\n",
       "      <td>-0.179646</td>\n",
       "      <td>0.969221</td>\n",
       "      <td>-1.035153</td>\n",
       "      <td>-0.457195</td>\n",
       "      <td>0.254962</td>\n",
       "      <td>-2.7</td>\n",
       "      <td>-0.588873</td>\n",
       "      <td>0.608761</td>\n",
       "      <td>-4.241770</td>\n",
       "      <td>-0.462916</td>\n",
       "    </tr>\n",
       "    <tr>\n",
       "      <th>4</th>\n",
       "      <td>25968</td>\n",
       "      <td>684</td>\n",
       "      <td>4</td>\n",
       "      <td>1.288253</td>\n",
       "      <td>5.552521</td>\n",
       "      <td>1.0</td>\n",
       "      <td>-0.493805</td>\n",
       "      <td>-1.036124</td>\n",
       "      <td>-1.126402</td>\n",
       "      <td>2.008197</td>\n",
       "      <td>-0.730534</td>\n",
       "      <td>0.0</td>\n",
       "      <td>0.899566</td>\n",
       "      <td>-1.259615</td>\n",
       "      <td>-0.472222</td>\n",
       "      <td>-0.121483</td>\n",
       "    </tr>\n",
       "  </tbody>\n",
       "</table>\n",
       "</div>"
      ],
      "text/plain": [
       "   sequence  subject  step  sensor_00  sensor_01  sensor_02  sensor_03  \\\n",
       "0     25968      684     0   2.427357  19.639706        1.0  -1.466372   \n",
       "1     25968      684     1  -4.950541 -21.747899        1.0   0.983186   \n",
       "2     25968      684     2   1.136012 -10.756303        1.0   1.016814   \n",
       "3     25968      684     3   0.806028   6.504202        1.0  -0.179646   \n",
       "4     25968      684     4   1.288253   5.552521        1.0  -0.493805   \n",
       "\n",
       "   sensor_04  sensor_05  sensor_06  sensor_07  sensor_08  sensor_09  \\\n",
       "0  -1.289973  -4.207928   2.486339  -2.493893        8.0  -1.123555   \n",
       "1  -0.569053   1.845924  -3.887978   1.727481       -2.9   0.395231   \n",
       "2   0.964157   2.454749   0.312386   1.154198       -5.6   1.114162   \n",
       "3   0.969221  -1.035153  -0.457195   0.254962       -2.7  -0.588873   \n",
       "4  -1.036124  -1.126402   2.008197  -0.730534        0.0   0.899566   \n",
       "\n",
       "   sensor_10  sensor_11  sensor_12  \n",
       "0  -1.673048  10.980453   0.419011  \n",
       "1  -0.882233  -1.871399  -0.008525  \n",
       "2   1.525273 -11.584362   0.139812  \n",
       "3   0.608761  -4.241770  -0.462916  \n",
       "4  -1.259615  -0.472222  -0.121483  "
      ]
     },
     "execution_count": 140,
     "metadata": {},
     "output_type": "execute_result"
    }
   ],
   "source": [
    "df_test.head()"
   ]
  },
  {
   "cell_type": "code",
   "execution_count": 141,
   "id": "8f0558e8",
   "metadata": {},
   "outputs": [
    {
     "data": {
      "text/plain": [
       "(733080, 16)"
      ]
     },
     "execution_count": 141,
     "metadata": {},
     "output_type": "execute_result"
    }
   ],
   "source": [
    "df_test.shape"
   ]
  },
  {
   "cell_type": "markdown",
   "id": "f92ba83c",
   "metadata": {},
   "source": [
    "#### Train_labels"
   ]
  },
  {
   "cell_type": "code",
   "execution_count": 142,
   "id": "019aa584",
   "metadata": {},
   "outputs": [
    {
     "data": {
      "text/html": [
       "<div>\n",
       "<style scoped>\n",
       "    .dataframe tbody tr th:only-of-type {\n",
       "        vertical-align: middle;\n",
       "    }\n",
       "\n",
       "    .dataframe tbody tr th {\n",
       "        vertical-align: top;\n",
       "    }\n",
       "\n",
       "    .dataframe thead th {\n",
       "        text-align: right;\n",
       "    }\n",
       "</style>\n",
       "<table border=\"1\" class=\"dataframe\">\n",
       "  <thead>\n",
       "    <tr style=\"text-align: right;\">\n",
       "      <th></th>\n",
       "      <th>sequence</th>\n",
       "      <th>state</th>\n",
       "    </tr>\n",
       "  </thead>\n",
       "  <tbody>\n",
       "    <tr>\n",
       "      <th>0</th>\n",
       "      <td>0</td>\n",
       "      <td>0</td>\n",
       "    </tr>\n",
       "    <tr>\n",
       "      <th>1</th>\n",
       "      <td>1</td>\n",
       "      <td>1</td>\n",
       "    </tr>\n",
       "    <tr>\n",
       "      <th>2</th>\n",
       "      <td>2</td>\n",
       "      <td>1</td>\n",
       "    </tr>\n",
       "    <tr>\n",
       "      <th>3</th>\n",
       "      <td>3</td>\n",
       "      <td>1</td>\n",
       "    </tr>\n",
       "    <tr>\n",
       "      <th>4</th>\n",
       "      <td>4</td>\n",
       "      <td>1</td>\n",
       "    </tr>\n",
       "  </tbody>\n",
       "</table>\n",
       "</div>"
      ],
      "text/plain": [
       "   sequence  state\n",
       "0         0      0\n",
       "1         1      1\n",
       "2         2      1\n",
       "3         3      1\n",
       "4         4      1"
      ]
     },
     "execution_count": 142,
     "metadata": {},
     "output_type": "execute_result"
    }
   ],
   "source": [
    "df_train_labels = pd.read_csv('train_labels.csv')\n",
    "df_train_labels.head()"
   ]
  },
  {
   "cell_type": "markdown",
   "id": "da60a7ab",
   "metadata": {},
   "source": [
    "In *train_labels* the variable *state* is associated with each sequence in train data"
   ]
  },
  {
   "cell_type": "markdown",
   "id": "a294f030",
   "metadata": {},
   "source": [
    "### Target distribution"
   ]
  },
  {
   "cell_type": "markdown",
   "id": "e2899517",
   "metadata": {},
   "source": [
    "It's important to have target normally distributed in regression model or to have all targets equally represented in classification problem. The reason for that is that the model will be more precise and accurate.\n",
    "\n",
    "So when we have high skewness in data, we need to use log normal transformation to have skewness placed approximately to zero."
   ]
  },
  {
   "cell_type": "code",
   "execution_count": 143,
   "id": "1a925ab0",
   "metadata": {},
   "outputs": [
    {
     "name": "stdout",
     "output_type": "stream",
     "text": [
      "There are 13014 positive and 12954 negative states\n"
     ]
    }
   ],
   "source": [
    "positive_state, negative_state = df_train_labels.state.value_counts()\n",
    "print('There are {} positive and {} negative states'.format(positive_state, negative_state))"
   ]
  },
  {
   "cell_type": "code",
   "execution_count": 144,
   "id": "f34b3c7a",
   "metadata": {},
   "outputs": [
    {
     "data": {
      "text/plain": [
       "<matplotlib.legend.Legend at 0x7fdfae45edf0>"
      ]
     },
     "execution_count": 144,
     "metadata": {},
     "output_type": "execute_result"
    },
    {
     "data": {
      "image/png": "[encoded data removed]",
      "text/plain": [
       "<Figure size 432x288 with 1 Axes>"
      ]
     },
     "metadata": {},
     "output_type": "display_data"
    }
   ],
   "source": [
    "import matplotlib.pyplot as plt\n",
    "\n",
    "fig, ax = plt.subplots()\n",
    "ax.pie([positive_state, negative_state], labels=['True', 'False'], autopct='%1.1f%%', shadow=True, startangle=45, textprops=dict(color=\"white\", fontsize=15, weight=\"bold\"), colors=['orangered', 'steelblue'])\n",
    "ax.set_title('Target distribution')\n",
    "ax.legend(title='State')"
   ]
  },
  {
   "cell_type": "markdown",
   "id": "8ae51022",
   "metadata": {},
   "source": [
    "As we see, the values of targets are equally distributed"
   ]
  },
  {
   "cell_type": "markdown",
   "id": "b13675b0",
   "metadata": {},
   "source": [
    "### Input data"
   ]
  },
  {
   "cell_type": "markdown",
   "id": "75cbd63c",
   "metadata": {},
   "source": [
    "We need to check the following:\n",
    "* The type of variables\n",
    "* Are the values within the range (not applicable here)\n",
    "* Explore missing values and use best technique for handling missing values"
   ]
  },
  {
   "cell_type": "code",
   "execution_count": 145,
   "id": "afc0ef33",
   "metadata": {},
   "outputs": [
    {
     "data": {
      "text/plain": [
       "sequence       int64\n",
       "subject        int64\n",
       "step           int64\n",
       "sensor_00    float64\n",
       "sensor_01    float64\n",
       "sensor_02    float64\n",
       "sensor_03    float64\n",
       "sensor_04    float64\n",
       "sensor_05    float64\n",
       "sensor_06    float64\n",
       "sensor_07    float64\n",
       "sensor_08    float64\n",
       "sensor_09    float64\n",
       "sensor_10    float64\n",
       "sensor_11    float64\n",
       "sensor_12    float64\n",
       "dtype: object"
      ]
     },
     "execution_count": 145,
     "metadata": {},
     "output_type": "execute_result"
    }
   ],
   "source": [
    "# Data types\n",
    "df_train.dtypes"
   ]
  },
  {
   "cell_type": "markdown",
   "id": "4255a9ec",
   "metadata": {},
   "source": [
    "#### Categorical variables"
   ]
  },
  {
   "cell_type": "markdown",
   "id": "746fbc25",
   "metadata": {},
   "source": [
    "Although we see that there are no categorical variables in this dataset, formally, by checking the `object` dtype, we can conclude whether a column has a text."
   ]
  },
  {
   "cell_type": "code",
   "execution_count": 146,
   "id": "16fcc2f3",
   "metadata": {},
   "outputs": [
    {
     "name": "stdout",
     "output_type": "stream",
     "text": [
      "Numer of categorical variables: 0\n"
     ]
    }
   ],
   "source": [
    "# return boolean array\n",
    "s = (X_train.dtypes == 'int64')\n",
    "\n",
    "# Get only indices as a list\n",
    "object_cols = list(s[s].index)\n",
    "\n",
    "print(\"Numer of categorical variables: {}\".format(len(object_cols)))"
   ]
  },
  {
   "cell_type": "markdown",
   "id": "d7c248b3",
   "metadata": {},
   "source": [
    "#### Check for NULL values"
   ]
  },
  {
   "cell_type": "code",
   "execution_count": 147,
   "id": "8ae39eae",
   "metadata": {},
   "outputs": [
    {
     "data": {
      "text/plain": [
       "0"
      ]
     },
     "execution_count": 147,
     "metadata": {},
     "output_type": "execute_result"
    }
   ],
   "source": [
    "# Check for NULL values\n",
    "df_train.isnull().sum().sum()"
   ]
  },
  {
   "cell_type": "markdown",
   "id": "ac412451",
   "metadata": {},
   "source": [
    "As we can see, there are no NULL values in our DataFrame"
   ]
  },
  {
   "cell_type": "markdown",
   "id": "0a79984d",
   "metadata": {},
   "source": [
    "### Descriptive statistics "
   ]
  },
  {
   "cell_type": "code",
   "execution_count": 148,
   "id": "6161404a",
   "metadata": {},
   "outputs": [
    {
     "data": {
      "text/html": [
       "<div>\n",
       "<style scoped>\n",
       "    .dataframe tbody tr th:only-of-type {\n",
       "        vertical-align: middle;\n",
       "    }\n",
       "\n",
       "    .dataframe tbody tr th {\n",
       "        vertical-align: top;\n",
       "    }\n",
       "\n",
       "    .dataframe thead th {\n",
       "        text-align: right;\n",
       "    }\n",
       "</style>\n",
       "<table border=\"1\" class=\"dataframe\">\n",
       "  <thead>\n",
       "    <tr style=\"text-align: right;\">\n",
       "      <th></th>\n",
       "      <th>count</th>\n",
       "      <th>mean</th>\n",
       "      <th>std</th>\n",
       "      <th>min</th>\n",
       "      <th>25%</th>\n",
       "      <th>50%</th>\n",
       "      <th>75%</th>\n",
       "      <th>max</th>\n",
       "    </tr>\n",
       "  </thead>\n",
       "  <tbody>\n",
       "    <tr>\n",
       "      <th>sequence</th>\n",
       "      <td>1558080.0</td>\n",
       "      <td>12983.500000</td>\n",
       "      <td>7496.318295</td>\n",
       "      <td>0.000000</td>\n",
       "      <td>6491.750000</td>\n",
       "      <td>12983.500000</td>\n",
       "      <td>19475.250000</td>\n",
       "      <td>25967.000000</td>\n",
       "    </tr>\n",
       "    <tr>\n",
       "      <th>subject</th>\n",
       "      <td>1558080.0</td>\n",
       "      <td>331.633087</td>\n",
       "      <td>195.825657</td>\n",
       "      <td>0.000000</td>\n",
       "      <td>161.750000</td>\n",
       "      <td>335.000000</td>\n",
       "      <td>501.000000</td>\n",
       "      <td>671.000000</td>\n",
       "    </tr>\n",
       "    <tr>\n",
       "      <th>step</th>\n",
       "      <td>1558080.0</td>\n",
       "      <td>29.500000</td>\n",
       "      <td>17.318108</td>\n",
       "      <td>0.000000</td>\n",
       "      <td>14.750000</td>\n",
       "      <td>29.500000</td>\n",
       "      <td>44.250000</td>\n",
       "      <td>59.000000</td>\n",
       "    </tr>\n",
       "    <tr>\n",
       "      <th>sensor_00</th>\n",
       "      <td>1558080.0</td>\n",
       "      <td>0.000437</td>\n",
       "      <td>2.658684</td>\n",
       "      <td>-375.063369</td>\n",
       "      <td>-0.500000</td>\n",
       "      <td>-0.003091</td>\n",
       "      <td>0.484544</td>\n",
       "      <td>335.824575</td>\n",
       "    </tr>\n",
       "    <tr>\n",
       "      <th>sensor_01</th>\n",
       "      <td>1558080.0</td>\n",
       "      <td>-0.001035</td>\n",
       "      <td>4.404200</td>\n",
       "      <td>-434.597689</td>\n",
       "      <td>-0.483193</td>\n",
       "      <td>0.003151</td>\n",
       "      <td>0.492647</td>\n",
       "      <td>449.591387</td>\n",
       "    </tr>\n",
       "    <tr>\n",
       "      <th>sensor_02</th>\n",
       "      <td>1558080.0</td>\n",
       "      <td>-0.217805</td>\n",
       "      <td>2.298002</td>\n",
       "      <td>-31.659476</td>\n",
       "      <td>-0.646153</td>\n",
       "      <td>0.000000</td>\n",
       "      <td>0.333847</td>\n",
       "      <td>1.666667</td>\n",
       "    </tr>\n",
       "    <tr>\n",
       "      <th>sensor_03</th>\n",
       "      <td>1558080.0</td>\n",
       "      <td>-0.002157</td>\n",
       "      <td>3.934184</td>\n",
       "      <td>-408.376106</td>\n",
       "      <td>-0.492920</td>\n",
       "      <td>0.000000</td>\n",
       "      <td>0.489381</td>\n",
       "      <td>436.650442</td>\n",
       "    </tr>\n",
       "    <tr>\n",
       "      <th>sensor_04</th>\n",
       "      <td>1558080.0</td>\n",
       "      <td>-0.001829</td>\n",
       "      <td>1.683685</td>\n",
       "      <td>-23.626013</td>\n",
       "      <td>-0.472993</td>\n",
       "      <td>-0.001590</td>\n",
       "      <td>0.470156</td>\n",
       "      <td>24.872865</td>\n",
       "    </tr>\n",
       "    <tr>\n",
       "      <th>sensor_05</th>\n",
       "      <td>1558080.0</td>\n",
       "      <td>-0.001652</td>\n",
       "      <td>1.590818</td>\n",
       "      <td>-74.982797</td>\n",
       "      <td>-0.478684</td>\n",
       "      <td>0.002992</td>\n",
       "      <td>0.505610</td>\n",
       "      <td>77.915482</td>\n",
       "    </tr>\n",
       "    <tr>\n",
       "      <th>sensor_06</th>\n",
       "      <td>1558080.0</td>\n",
       "      <td>-0.000412</td>\n",
       "      <td>3.345143</td>\n",
       "      <td>-470.504554</td>\n",
       "      <td>-0.492714</td>\n",
       "      <td>0.000911</td>\n",
       "      <td>0.492714</td>\n",
       "      <td>442.500911</td>\n",
       "    </tr>\n",
       "    <tr>\n",
       "      <th>sensor_07</th>\n",
       "      <td>1558080.0</td>\n",
       "      <td>-0.000026</td>\n",
       "      <td>3.243428</td>\n",
       "      <td>-407.011450</td>\n",
       "      <td>-0.502290</td>\n",
       "      <td>-0.002290</td>\n",
       "      <td>0.484733</td>\n",
       "      <td>331.254198</td>\n",
       "    </tr>\n",
       "    <tr>\n",
       "      <th>sensor_08</th>\n",
       "      <td>1558080.0</td>\n",
       "      <td>-0.000130</td>\n",
       "      <td>4.501534</td>\n",
       "      <td>-536.100000</td>\n",
       "      <td>-0.500000</td>\n",
       "      <td>0.000000</td>\n",
       "      <td>0.500000</td>\n",
       "      <td>630.100000</td>\n",
       "    </tr>\n",
       "    <tr>\n",
       "      <th>sensor_09</th>\n",
       "      <td>1558080.0</td>\n",
       "      <td>0.001366</td>\n",
       "      <td>2.592913</td>\n",
       "      <td>-270.346821</td>\n",
       "      <td>-0.515173</td>\n",
       "      <td>-0.001445</td>\n",
       "      <td>0.508671</td>\n",
       "      <td>367.981214</td>\n",
       "    </tr>\n",
       "    <tr>\n",
       "      <th>sensor_10</th>\n",
       "      <td>1558080.0</td>\n",
       "      <td>0.000332</td>\n",
       "      <td>1.917333</td>\n",
       "      <td>-43.412706</td>\n",
       "      <td>-0.478794</td>\n",
       "      <td>-0.001656</td>\n",
       "      <td>0.478039</td>\n",
       "      <td>41.865588</td>\n",
       "    </tr>\n",
       "    <tr>\n",
       "      <th>sensor_11</th>\n",
       "      <td>1558080.0</td>\n",
       "      <td>-0.003733</td>\n",
       "      <td>4.532568</td>\n",
       "      <td>-427.058642</td>\n",
       "      <td>-0.483539</td>\n",
       "      <td>0.003086</td>\n",
       "      <td>0.493827</td>\n",
       "      <td>448.020576</td>\n",
       "    </tr>\n",
       "    <tr>\n",
       "      <th>sensor_12</th>\n",
       "      <td>1558080.0</td>\n",
       "      <td>-0.011726</td>\n",
       "      <td>39.117670</td>\n",
       "      <td>-612.549446</td>\n",
       "      <td>-0.580563</td>\n",
       "      <td>0.000000</td>\n",
       "      <td>0.570332</td>\n",
       "      <td>630.511083</td>\n",
       "    </tr>\n",
       "  </tbody>\n",
       "</table>\n",
       "</div>"
      ],
      "text/plain": [
       "               count          mean          std         min          25%  \\\n",
       "sequence   1558080.0  12983.500000  7496.318295    0.000000  6491.750000   \n",
       "subject    1558080.0    331.633087   195.825657    0.000000   161.750000   \n",
       "step       1558080.0     29.500000    17.318108    0.000000    14.750000   \n",
       "sensor_00  1558080.0      0.000437     2.658684 -375.063369    -0.500000   \n",
       "sensor_01  1558080.0     -0.001035     4.404200 -434.597689    -0.483193   \n",
       "sensor_02  1558080.0     -0.217805     2.298002  -31.659476    -0.646153   \n",
       "sensor_03  1558080.0     -0.002157     3.934184 -408.376106    -0.492920   \n",
       "sensor_04  1558080.0     -0.001829     1.683685  -23.626013    -0.472993   \n",
       "sensor_05  1558080.0     -0.001652     1.590818  -74.982797    -0.478684   \n",
       "sensor_06  1558080.0     -0.000412     3.345143 -470.504554    -0.492714   \n",
       "sensor_07  1558080.0     -0.000026     3.243428 -407.011450    -0.502290   \n",
       "sensor_08  1558080.0     -0.000130     4.501534 -536.100000    -0.500000   \n",
       "sensor_09  1558080.0      0.001366     2.592913 -270.346821    -0.515173   \n",
       "sensor_10  1558080.0      0.000332     1.917333  -43.412706    -0.478794   \n",
       "sensor_11  1558080.0     -0.003733     4.532568 -427.058642    -0.483539   \n",
       "sensor_12  1558080.0     -0.011726    39.117670 -612.549446    -0.580563   \n",
       "\n",
       "                    50%           75%           max  \n",
       "sequence   12983.500000  19475.250000  25967.000000  \n",
       "subject      335.000000    501.000000    671.000000  \n",
       "step          29.500000     44.250000     59.000000  \n",
       "sensor_00     -0.003091      0.484544    335.824575  \n",
       "sensor_01      0.003151      0.492647    449.591387  \n",
       "sensor_02      0.000000      0.333847      1.666667  \n",
       "sensor_03      0.000000      0.489381    436.650442  \n",
       "sensor_04     -0.001590      0.470156     24.872865  \n",
       "sensor_05      0.002992      0.505610     77.915482  \n",
       "sensor_06      0.000911      0.492714    442.500911  \n",
       "sensor_07     -0.002290      0.484733    331.254198  \n",
       "sensor_08      0.000000      0.500000    630.100000  \n",
       "sensor_09     -0.001445      0.508671    367.981214  \n",
       "sensor_10     -0.001656      0.478039     41.865588  \n",
       "sensor_11      0.003086      0.493827    448.020576  \n",
       "sensor_12      0.000000      0.570332    630.511083  "
      ]
     },
     "execution_count": 148,
     "metadata": {},
     "output_type": "execute_result"
    }
   ],
   "source": [
    "# Describe values from that data frame\n",
    "df_train.describe().T"
   ]
  },
  {
   "cell_type": "markdown",
   "id": "f992ff39",
   "metadata": {},
   "source": [
    "I want to know if every measurement has the same length (0 - 59 seconds)"
   ]
  },
  {
   "cell_type": "markdown",
   "id": "abe882c6",
   "metadata": {},
   "source": [
    "I realize that I would actually need to group by sequence and subject to be able to measure steps"
   ]
  },
  {
   "cell_type": "code",
   "execution_count": 149,
   "id": "ac4a9ead",
   "metadata": {},
   "outputs": [],
   "source": [
    "for observation in df_train.groupby(['sequence', 'subject']).size():\n",
    "    if observation != 60:\n",
    "        print('There is a sequence which is not 60 seconds long')"
   ]
  },
  {
   "cell_type": "markdown",
   "id": "251afa7d",
   "metadata": {},
   "source": [
    "We can see that each sequence is 60 seconds long (which is great)"
   ]
  },
  {
   "cell_type": "code",
   "execution_count": 150,
   "id": "f96eb42f",
   "metadata": {},
   "outputs": [
    {
     "data": {
      "text/plain": [
       "672"
      ]
     },
     "execution_count": 150,
     "metadata": {},
     "output_type": "execute_result"
    }
   ],
   "source": [
    "# I want to know how many participants are there?\n",
    "df_train.reset_index().subject.nunique()"
   ]
  },
  {
   "cell_type": "markdown",
   "id": "b5559fe5",
   "metadata": {},
   "source": [
    "There are **672** participants in this data frame"
   ]
  },
  {
   "cell_type": "markdown",
   "id": "28eca506",
   "metadata": {},
   "source": [
    "I want to know how many times each subject had measurement"
   ]
  },
  {
   "cell_type": "code",
   "execution_count": 151,
   "id": "ef0d1010",
   "metadata": {},
   "outputs": [
    {
     "data": {
      "text/plain": [
       "0       20.0\n",
       "1      175.0\n",
       "2       38.0\n",
       "3       36.0\n",
       "4       26.0\n",
       "       ...  \n",
       "667     62.0\n",
       "668     21.0\n",
       "669     25.0\n",
       "670     28.0\n",
       "671     60.0\n",
       "Name: subject, Length: 672, dtype: float64"
      ]
     },
     "execution_count": 151,
     "metadata": {},
     "output_type": "execute_result"
    }
   ],
   "source": [
    "duration_of_measurement = 60 # In seconds\n",
    "df_train['subject'].value_counts().sort_index() / duration_of_measurement"
   ]
  },
  {
   "cell_type": "markdown",
   "id": "bb8b8d9e",
   "metadata": {},
   "source": [
    "## The sensors"
   ]
  },
  {
   "cell_type": "markdown",
   "id": "9e64cf18",
   "metadata": {},
   "source": [
    "Firstly, we need to plot 13 boxplots with outliers to see the situation."
   ]
  },
  {
   "cell_type": "code",
   "execution_count": 152,
   "id": "d159210f",
   "metadata": {},
   "outputs": [
    {
     "data": {
      "image/png": "[encoded data removed]",
      "text/plain": [
       "<Figure size 1440x720 with 13 Axes>"
      ]
     },
     "metadata": {
      "needs_background": "light"
     },
     "output_type": "display_data"
    }
   ],
   "source": [
    "import matplotlib.pyplot as plt\n",
    "\n",
    "fig = plt.figure(figsize=(20,10))\n",
    "for index, sensor in enumerate(df_train.columns):\n",
    "    if sensor.startswith('sensor'):\n",
    "        plt.subplot(4,4, index - 2)\n",
    "        plt.boxplot(df_train[sensor])"
   ]
  },
  {
   "cell_type": "markdown",
   "id": "8c64f2de",
   "metadata": {},
   "source": [
    "As we can see, the most sensors are defined by outliers. We can see that using boxplot might be kind of unpractical, because we have 1.5 million observations. That's why, we are using histograms"
   ]
  },
  {
   "cell_type": "code",
   "execution_count": 153,
   "id": "8f589dd8",
   "metadata": {},
   "outputs": [
    {
     "data": {
      "image/png": "[encoded data removed]",
      "text/plain": [
       "<Figure size 1440x720 with 13 Axes>"
      ]
     },
     "metadata": {
      "needs_background": "light"
     },
     "output_type": "display_data"
    }
   ],
   "source": [
    "fig = plt.figure(figsize=(20,10))\n",
    "for index, sensor in enumerate(df_train.columns):\n",
    "    if sensor.startswith('sensor'):\n",
    "        plt.subplot(4,4, index - 2)\n",
    "        plt.hist(df_train[sensor], bins = 30)"
   ]
  },
  {
   "cell_type": "markdown",
   "id": "1584280f",
   "metadata": {},
   "source": [
    "Let's see the value of upper and lower bound for every sensor and it's outliers using the IQR method"
   ]
  },
  {
   "cell_type": "code",
   "execution_count": 154,
   "id": "d35102cb",
   "metadata": {},
   "outputs": [
    {
     "data": {
      "text/html": [
       "<div>\n",
       "<style scoped>\n",
       "    .dataframe tbody tr th:only-of-type {\n",
       "        vertical-align: middle;\n",
       "    }\n",
       "\n",
       "    .dataframe tbody tr th {\n",
       "        vertical-align: top;\n",
       "    }\n",
       "\n",
       "    .dataframe thead th {\n",
       "        text-align: right;\n",
       "    }\n",
       "</style>\n",
       "<table border=\"1\" class=\"dataframe\">\n",
       "  <thead>\n",
       "    <tr style=\"text-align: right;\">\n",
       "      <th></th>\n",
       "      <th>upper_bound</th>\n",
       "      <th>lower_bound</th>\n",
       "      <th>mean</th>\n",
       "      <th>NumberOfOutliers</th>\n",
       "    </tr>\n",
       "  </thead>\n",
       "  <tbody>\n",
       "    <tr>\n",
       "      <th>sensor_00</th>\n",
       "      <td>1.96136</td>\n",
       "      <td>-1.976816</td>\n",
       "      <td>0.000437</td>\n",
       "      <td>148564</td>\n",
       "    </tr>\n",
       "    <tr>\n",
       "      <th>sensor_01</th>\n",
       "      <td>1.956408</td>\n",
       "      <td>-1.946954</td>\n",
       "      <td>-0.001035</td>\n",
       "      <td>145841</td>\n",
       "    </tr>\n",
       "    <tr>\n",
       "      <th>sensor_02</th>\n",
       "      <td>1.803847</td>\n",
       "      <td>-2.116153</td>\n",
       "      <td>-0.217805</td>\n",
       "      <td>26260</td>\n",
       "    </tr>\n",
       "    <tr>\n",
       "      <th>sensor_03</th>\n",
       "      <td>1.962832</td>\n",
       "      <td>-1.966372</td>\n",
       "      <td>-0.002157</td>\n",
       "      <td>139672</td>\n",
       "    </tr>\n",
       "    <tr>\n",
       "      <th>sensor_04</th>\n",
       "      <td>1.88488</td>\n",
       "      <td>-1.887717</td>\n",
       "      <td>-0.001829</td>\n",
       "      <td>207280</td>\n",
       "    </tr>\n",
       "    <tr>\n",
       "      <th>sensor_05</th>\n",
       "      <td>1.982049</td>\n",
       "      <td>-1.955123</td>\n",
       "      <td>-0.001652</td>\n",
       "      <td>210965</td>\n",
       "    </tr>\n",
       "    <tr>\n",
       "      <th>sensor_06</th>\n",
       "      <td>1.970856</td>\n",
       "      <td>-1.970856</td>\n",
       "      <td>-0.000412</td>\n",
       "      <td>134812</td>\n",
       "    </tr>\n",
       "    <tr>\n",
       "      <th>sensor_07</th>\n",
       "      <td>1.965267</td>\n",
       "      <td>-1.982824</td>\n",
       "      <td>-0.000026</td>\n",
       "      <td>152292</td>\n",
       "    </tr>\n",
       "    <tr>\n",
       "      <th>sensor_08</th>\n",
       "      <td>2.0</td>\n",
       "      <td>-2.0</td>\n",
       "      <td>-0.00013</td>\n",
       "      <td>161401</td>\n",
       "    </tr>\n",
       "    <tr>\n",
       "      <th>sensor_09</th>\n",
       "      <td>2.044436</td>\n",
       "      <td>-2.050939</td>\n",
       "      <td>0.001366</td>\n",
       "      <td>166545</td>\n",
       "    </tr>\n",
       "    <tr>\n",
       "      <th>sensor_10</th>\n",
       "      <td>1.913287</td>\n",
       "      <td>-1.914043</td>\n",
       "      <td>0.000332</td>\n",
       "      <td>202890</td>\n",
       "    </tr>\n",
       "    <tr>\n",
       "      <th>sensor_11</th>\n",
       "      <td>1.959877</td>\n",
       "      <td>-1.949588</td>\n",
       "      <td>-0.003733</td>\n",
       "      <td>148821</td>\n",
       "    </tr>\n",
       "    <tr>\n",
       "      <th>sensor_12</th>\n",
       "      <td>2.296675</td>\n",
       "      <td>-2.306905</td>\n",
       "      <td>-0.011726</td>\n",
       "      <td>540817</td>\n",
       "    </tr>\n",
       "  </tbody>\n",
       "</table>\n",
       "</div>"
      ],
      "text/plain": [
       "          upper_bound lower_bound      mean NumberOfOutliers\n",
       "sensor_00     1.96136   -1.976816  0.000437           148564\n",
       "sensor_01    1.956408   -1.946954 -0.001035           145841\n",
       "sensor_02    1.803847   -2.116153 -0.217805            26260\n",
       "sensor_03    1.962832   -1.966372 -0.002157           139672\n",
       "sensor_04     1.88488   -1.887717 -0.001829           207280\n",
       "sensor_05    1.982049   -1.955123 -0.001652           210965\n",
       "sensor_06    1.970856   -1.970856 -0.000412           134812\n",
       "sensor_07    1.965267   -1.982824 -0.000026           152292\n",
       "sensor_08         2.0        -2.0  -0.00013           161401\n",
       "sensor_09    2.044436   -2.050939  0.001366           166545\n",
       "sensor_10    1.913287   -1.914043  0.000332           202890\n",
       "sensor_11    1.959877   -1.949588 -0.003733           148821\n",
       "sensor_12    2.296675   -2.306905 -0.011726           540817"
      ]
     },
     "execution_count": 154,
     "metadata": {},
     "output_type": "execute_result"
    }
   ],
   "source": [
    "# Create an empty data frame\n",
    "index_labels = [col for col in df_train.columns if col.startswith('sensor')]\n",
    "df_sensor_iqr = pd.DataFrame(columns=['upper_bound', 'lower_bound', 'mean', 'NumberOfOutliers'], index = index_labels)\n",
    "\n",
    "for index, sensor in enumerate(df_train.columns):\n",
    "    if sensor.startswith('sensor'):\n",
    "        q1 = df_train[sensor].quantile(q = 0.25)\n",
    "        q3 = df_train[sensor].quantile(q = 0.75)\n",
    "        mean = df_train[sensor].mean()\n",
    "        \n",
    "        # IQR region\n",
    "        IQR = q3 - q1\n",
    "        \n",
    "        # finding upper and lower whiskers\n",
    "        upper_bound = q3 + (1.5 * IQR)\n",
    "        lower_bound = q1 - (1.5 * IQR)\n",
    "        \n",
    "        # Number of outliers\n",
    "        count_outliers = df_train[(df_train[sensor] <= lower_bound) | (df_train[sensor] >= upper_bound)]\n",
    "        \n",
    "        df_sensor_iqr.loc[index_labels[index - 3]] = [upper_bound, lower_bound, mean, count_outliers.shape[0]]\n",
    "        \n",
    "df_sensor_iqr"
   ]
  },
  {
   "cell_type": "markdown",
   "id": "b34619ec",
   "metadata": {},
   "source": [
    "As we can see, we cannot just 'delete' outliers. Some sensors (like sensor_12) have almost 30% of the values out of interquartile range.\n",
    "IQR (Interquartile range) is a measure of statistical dispersion. There are 50% of all values within IQR, while also 99.3% od data within upper and lower bound.\n",
    "\n",
    "Let's plot the number of outliers (use barplot):"
   ]
  },
  {
   "cell_type": "code",
   "execution_count": 155,
   "id": "2d59c199",
   "metadata": {},
   "outputs": [
    {
     "data": {
      "text/plain": [
       "<AxesSubplot:ylabel='NumberOfOutliers'>"
      ]
     },
     "execution_count": 155,
     "metadata": {},
     "output_type": "execute_result"
    },
    {
     "data": {
      "image/png": "[encoded data removed]",
      "text/plain": [
       "<Figure size 1008x360 with 1 Axes>"
      ]
     },
     "metadata": {
      "needs_background": "light"
     },
     "output_type": "display_data"
    }
   ],
   "source": [
    "import seaborn as sns\n",
    "\n",
    "fig, ax = plt.subplots(figsize=(14,5))\n",
    "\n",
    "sns.barplot(x = df_sensor_iqr.index, y=df_sensor_iqr.NumberOfOutliers.sort_values(ascending=False))"
   ]
  },
  {
   "cell_type": "code",
   "execution_count": 156,
   "id": "99f33b8b",
   "metadata": {},
   "outputs": [
    {
     "data": {
      "text/html": [
       "<img src=\"https://upload.wikimedia.org/wikipedia/commons/1/1a/Boxplot_vs_PDF.svg\"/>"
      ],
      "text/plain": [
       "<IPython.core.display.Image object>"
      ]
     },
     "execution_count": 156,
     "metadata": {},
     "output_type": "execute_result"
    }
   ],
   "source": [
    "from IPython.display import Image\n",
    "\n",
    "Image(url='https://upload.wikimedia.org/wikipedia/commons/1/1a/Boxplot_vs_PDF.svg')"
   ]
  },
  {
   "cell_type": "markdown",
   "id": "bafeb0b6",
   "metadata": {},
   "source": [
    "This notebook: https://www.kaggle.com/code/ambrosm/tpsapr22-eda-which-makes-sense suggest to use some kind of non-linear transformation to get it to the normal distribution"
   ]
  },
  {
   "cell_type": "markdown",
   "id": "a25d49ed",
   "metadata": {},
   "source": [
    "#### *NOTE* : Mahalanobis distance"
   ]
  },
  {
   "cell_type": "markdown",
   "id": "a322c31c",
   "metadata": {},
   "source": [
    "The best practice for dealing with outliers in multivariante statistics is to use Mahalanobis distance. I had two approaches with dealing with the outliers.\n",
    "\n",
    "The first one is to implement Mahalanobis distance by myself and to add a new variable for each observation and detect outliers. This approach didn't work because there weren't enough memory space as the implementation is quite memory consuming.\n",
    "\n",
    "The second approach is to use already implemented `mahalanobis` function in **R** language. However, the version of the package *rpy2* which serves as an interface to **R** is deprecated in Anaconda and cannot be used.  "
   ]
  },
  {
   "cell_type": "markdown",
   "id": "d7e323ca",
   "metadata": {},
   "source": [
    "### Correlation between sensors"
   ]
  },
  {
   "cell_type": "code",
   "execution_count": 157,
   "id": "67600bea",
   "metadata": {},
   "outputs": [
    {
     "data": {
      "text/plain": [
       "<AxesSubplot:>"
      ]
     },
     "execution_count": 157,
     "metadata": {},
     "output_type": "execute_result"
    },
    {
     "data": {
      "image/png": "[encoded data removed]",
      "text/plain": [
       "<Figure size 1008x576 with 2 Axes>"
      ]
     },
     "metadata": {
      "needs_background": "light"
     },
     "output_type": "display_data"
    }
   ],
   "source": [
    "fig, ax = plt.subplots(figsize=(14, 8))\n",
    "\n",
    "sensors = [column for column in df_train.columns if column.startswith('sensor')]\n",
    "\n",
    "# define the mask to set the values in the upper triangle to True\n",
    "mask = np.triu(np.ones_like(df_train[sensors].corr(), dtype=np.bool_))\n",
    "\n",
    "sns.heatmap(df_train[sensors].corr(), mask=mask, vmin=-1, vmax=1, annot=True, cmap='seismic')"
   ]
  },
  {
   "cell_type": "markdown",
   "id": "4e3a246c",
   "metadata": {},
   "source": [
    "As we can see, the strongest positive correlation is between (*sensor_00*, *sensor_06*), (*sensor_00, sensor_09*), (*sensor_03*, *sensor_07*), (*sensor_03, sensor_11*)"
   ]
  },
  {
   "cell_type": "markdown",
   "id": "d3f2e41f",
   "metadata": {},
   "source": [
    "### Feature engineering"
   ]
  },
  {
   "cell_type": "markdown",
   "id": "a0d431da",
   "metadata": {},
   "source": [
    "As we have more than 1.5 million observations, it would be memory efficicient to remove highly correlated variables which would not have such an impact on our training model. "
   ]
  },
  {
   "cell_type": "code",
   "execution_count": 158,
   "id": "220d1312",
   "metadata": {},
   "outputs": [],
   "source": [
    "# Drop values of specific columns\n",
    "df_train = df_train.drop(['sensor_06', 'sensor_07', 'sensor_09', 'sensor_11'], axis = 1)\n",
    "df_test = df_test.drop(['sensor_06', 'sensor_07', 'sensor_09', 'sensor_11'], axis = 1)"
   ]
  },
  {
   "cell_type": "code",
   "execution_count": 159,
   "id": "f851681c",
   "metadata": {},
   "outputs": [
    {
     "data": {
      "text/plain": [
       "<AxesSubplot:>"
      ]
     },
     "execution_count": 159,
     "metadata": {},
     "output_type": "execute_result"
    },
    {
     "data": {
      "image/png": "[encoded data removed]",
      "text/plain": [
       "<Figure size 1008x576 with 2 Axes>"
      ]
     },
     "metadata": {
      "needs_background": "light"
     },
     "output_type": "display_data"
    }
   ],
   "source": [
    "fig, ax = plt.subplots(figsize=(14, 8))\n",
    "\n",
    "sensors = [column for column in df_train.columns if column.startswith('sensor')]\n",
    "\n",
    "# define the mask to set the values in the upper triangle to True\n",
    "mask = np.triu(np.ones_like(df_train[sensors].corr(), dtype=np.bool_))\n",
    "\n",
    "sns.heatmap(df_train[sensors].corr(), mask=mask, vmin=-1, vmax=1, annot=True, cmap='seismic')"
   ]
  },
  {
   "cell_type": "markdown",
   "id": "4bf0cf8f",
   "metadata": {},
   "source": [
    "# Feature extraction"
   ]
  },
  {
   "cell_type": "markdown",
   "id": "361568ab",
   "metadata": {},
   "source": [
    "*NOTE*: This part is based on https://www.kaggle.com/code/reymaster/apr-2022-tps-simple-time-series-analysis-xgboost notebook"
   ]
  },
  {
   "cell_type": "markdown",
   "id": "feb46b57",
   "metadata": {},
   "source": [
    "We are using *tsfresh* package for feature extraction. *tsfresh* is very convenient in this situation because it enables us to summarize variable's values based on a sequence number (a.k.a. it enables us a summary statistics for each observation which we got by grouping it by some other variable). Also, when we will train the model, the shape of training set and training labels will be the same which is suitable for our case."
   ]
  },
  {
   "cell_type": "code",
   "execution_count": 160,
   "id": "50c68049",
   "metadata": {},
   "outputs": [],
   "source": [
    "from tsfresh.feature_extraction import extract_features, MinimalFCParameters"
   ]
  },
  {
   "cell_type": "code",
   "execution_count": 161,
   "id": "c3873574",
   "metadata": {},
   "outputs": [
    {
     "name": "stderr",
     "output_type": "stream",
     "text": [
      "Feature Extraction: 100%|██████████| 20/20 [00:41<00:00,  2.08s/it]\n",
      "Feature Extraction: 100%|██████████| 20/20 [00:17<00:00,  1.12it/s]\n"
     ]
    }
   ],
   "source": [
    "# Return the train_X which contains summary statistics for each variable group by sequence variable\n",
    "train_X = extract_features(df_train, default_fc_parameters=MinimalFCParameters(), column_id=\"sequence\", column_sort=\"step\")\n",
    "\n",
    "# Same here\n",
    "test_X = extract_features(df_test, default_fc_parameters=MinimalFCParameters(), column_id=\"sequence\", column_sort=\"step\")"
   ]
  },
  {
   "cell_type": "code",
   "execution_count": 162,
   "id": "2eaa77c4",
   "metadata": {},
   "outputs": [],
   "source": [
    "train_X;"
   ]
  },
  {
   "cell_type": "code",
   "execution_count": 163,
   "id": "c9ffc8f2",
   "metadata": {},
   "outputs": [],
   "source": [
    "test_X;"
   ]
  },
  {
   "cell_type": "markdown",
   "id": "11b727ea",
   "metadata": {},
   "source": [
    "### Impuation methods"
   ]
  },
  {
   "cell_type": "markdown",
   "id": "6345d4fc",
   "metadata": {},
   "source": [
    "`extract_feature` also produces NaN values which were created by feature calculators that can not be used on the given data, e.g., because the statistics are too low."
   ]
  },
  {
   "cell_type": "markdown",
   "id": "f3a6b230",
   "metadata": {},
   "source": [
    "Although `.info()` method stated that there are no NaN values in our data, we will perform imputation for educational purpose."
   ]
  },
  {
   "cell_type": "code",
   "execution_count": 164,
   "id": "38a7da9f",
   "metadata": {},
   "outputs": [],
   "source": [
    "#train_X.info();"
   ]
  },
  {
   "cell_type": "markdown",
   "id": "fe1c3f10",
   "metadata": {},
   "source": [
    "The best way to perform impuation in *R* is to use MICE package. In python, there are no such complicated impuation methods (or there are still in experimental status). That's why we are using `SimpleImputer` to to replace missing values with the median value along each column. "
   ]
  },
  {
   "cell_type": "code",
   "execution_count": 165,
   "id": "e30afff9",
   "metadata": {},
   "outputs": [],
   "source": [
    "from sklearn.impute import SimpleImputer\n",
    "\n",
    "# Use median for imputation\n",
    "simple_imputer = SimpleImputer(strategy = 'median')\n",
    "\n",
    "# Save column names as imputation is removing them\n",
    "column_names = train_X.columns\n",
    "\n",
    "train_X = pd.DataFrame(simple_imputer.fit_transform(train_X))\n",
    "test_X = pd.DataFrame(simple_imputer.transform(test_X))\n",
    "\n",
    "# Imputation removed column names; put them back\n",
    "train_X.columns = column_names\n",
    "test_X.columns = column_names"
   ]
  },
  {
   "cell_type": "markdown",
   "id": "a338b142",
   "metadata": {},
   "source": [
    "### Select relevant features"
   ]
  },
  {
   "cell_type": "code",
   "execution_count": 166,
   "id": "b5fe1308",
   "metadata": {},
   "outputs": [],
   "source": [
    "from tsfresh import select_features\n",
    "\n",
    "# Get the state values of train_labels (using for selecting the features)\n",
    "y = pd.Series(df_train_labels.state)"
   ]
  },
  {
   "cell_type": "code",
   "execution_count": 167,
   "id": "484f9cdc",
   "metadata": {},
   "outputs": [
    {
     "data": {
      "text/html": [
       "<div>\n",
       "<style scoped>\n",
       "    .dataframe tbody tr th:only-of-type {\n",
       "        vertical-align: middle;\n",
       "    }\n",
       "\n",
       "    .dataframe tbody tr th {\n",
       "        vertical-align: top;\n",
       "    }\n",
       "\n",
       "    .dataframe thead th {\n",
       "        text-align: right;\n",
       "    }\n",
       "</style>\n",
       "<table border=\"1\" class=\"dataframe\">\n",
       "  <thead>\n",
       "    <tr style=\"text-align: right;\">\n",
       "      <th></th>\n",
       "      <th>sensor_02__standard_deviation</th>\n",
       "      <th>sensor_02__variance</th>\n",
       "      <th>sensor_02__maximum</th>\n",
       "      <th>sensor_08__maximum</th>\n",
       "      <th>sensor_04__maximum</th>\n",
       "      <th>sensor_08__minimum</th>\n",
       "      <th>sensor_08__variance</th>\n",
       "      <th>sensor_08__standard_deviation</th>\n",
       "      <th>sensor_08__root_mean_square</th>\n",
       "      <th>sensor_04__minimum</th>\n",
       "      <th>...</th>\n",
       "      <th>subject__median</th>\n",
       "      <th>subject__mean</th>\n",
       "      <th>subject__sum_values</th>\n",
       "      <th>sensor_01__median</th>\n",
       "      <th>sensor_03__sum_values</th>\n",
       "      <th>sensor_03__mean</th>\n",
       "      <th>sensor_00__sum_values</th>\n",
       "      <th>sensor_00__mean</th>\n",
       "      <th>sensor_01__sum_values</th>\n",
       "      <th>sensor_01__mean</th>\n",
       "    </tr>\n",
       "  </thead>\n",
       "  <tbody>\n",
       "    <tr>\n",
       "      <th>0</th>\n",
       "      <td>0.137143</td>\n",
       "      <td>0.018808</td>\n",
       "      <td>1.000000</td>\n",
       "      <td>2.3</td>\n",
       "      <td>0.971886</td>\n",
       "      <td>-1.7</td>\n",
       "      <td>0.726497</td>\n",
       "      <td>0.852348</td>\n",
       "      <td>0.852936</td>\n",
       "      <td>-1.604398</td>\n",
       "      <td>...</td>\n",
       "      <td>47.0</td>\n",
       "      <td>47.0</td>\n",
       "      <td>2820.0</td>\n",
       "      <td>0.191702</td>\n",
       "      <td>2.052212</td>\n",
       "      <td>0.034204</td>\n",
       "      <td>2.504637</td>\n",
       "      <td>0.041744</td>\n",
       "      <td>-0.781513</td>\n",
       "      <td>-0.013025</td>\n",
       "    </tr>\n",
       "    <tr>\n",
       "      <th>1</th>\n",
       "      <td>0.487898</td>\n",
       "      <td>0.238044</td>\n",
       "      <td>-0.666153</td>\n",
       "      <td>2.3</td>\n",
       "      <td>3.661950</td>\n",
       "      <td>-3.0</td>\n",
       "      <td>1.190208</td>\n",
       "      <td>1.090967</td>\n",
       "      <td>1.093542</td>\n",
       "      <td>-1.417513</td>\n",
       "      <td>...</td>\n",
       "      <td>66.0</td>\n",
       "      <td>66.0</td>\n",
       "      <td>3960.0</td>\n",
       "      <td>0.001576</td>\n",
       "      <td>7.209735</td>\n",
       "      <td>0.120162</td>\n",
       "      <td>-4.157651</td>\n",
       "      <td>-0.069294</td>\n",
       "      <td>-1.197479</td>\n",
       "      <td>-0.019958</td>\n",
       "    </tr>\n",
       "    <tr>\n",
       "      <th>2</th>\n",
       "      <td>0.168910</td>\n",
       "      <td>0.028530</td>\n",
       "      <td>-0.666153</td>\n",
       "      <td>4.6</td>\n",
       "      <td>5.368985</td>\n",
       "      <td>-5.0</td>\n",
       "      <td>2.853567</td>\n",
       "      <td>1.689250</td>\n",
       "      <td>1.689280</td>\n",
       "      <td>-8.250281</td>\n",
       "      <td>...</td>\n",
       "      <td>66.0</td>\n",
       "      <td>66.0</td>\n",
       "      <td>3960.0</td>\n",
       "      <td>0.120273</td>\n",
       "      <td>-1.487611</td>\n",
       "      <td>-0.024794</td>\n",
       "      <td>-0.092736</td>\n",
       "      <td>-0.001546</td>\n",
       "      <td>1.500000</td>\n",
       "      <td>0.025000</td>\n",
       "    </tr>\n",
       "    <tr>\n",
       "      <th>3</th>\n",
       "      <td>0.195813</td>\n",
       "      <td>0.038343</td>\n",
       "      <td>1.000000</td>\n",
       "      <td>5.0</td>\n",
       "      <td>0.543682</td>\n",
       "      <td>-5.7</td>\n",
       "      <td>3.879808</td>\n",
       "      <td>1.969723</td>\n",
       "      <td>1.970237</td>\n",
       "      <td>-0.698962</td>\n",
       "      <td>...</td>\n",
       "      <td>542.0</td>\n",
       "      <td>542.0</td>\n",
       "      <td>32520.0</td>\n",
       "      <td>0.051471</td>\n",
       "      <td>2.008850</td>\n",
       "      <td>0.033481</td>\n",
       "      <td>1.792117</td>\n",
       "      <td>0.029869</td>\n",
       "      <td>-2.950630</td>\n",
       "      <td>-0.049177</td>\n",
       "    </tr>\n",
       "    <tr>\n",
       "      <th>4</th>\n",
       "      <td>0.163504</td>\n",
       "      <td>0.026734</td>\n",
       "      <td>1.333333</td>\n",
       "      <td>2.8</td>\n",
       "      <td>1.485148</td>\n",
       "      <td>-1.7</td>\n",
       "      <td>0.958475</td>\n",
       "      <td>0.979017</td>\n",
       "      <td>0.980561</td>\n",
       "      <td>-1.124221</td>\n",
       "      <td>...</td>\n",
       "      <td>437.0</td>\n",
       "      <td>437.0</td>\n",
       "      <td>26220.0</td>\n",
       "      <td>0.060399</td>\n",
       "      <td>-3.376106</td>\n",
       "      <td>-0.056268</td>\n",
       "      <td>3.547913</td>\n",
       "      <td>0.059132</td>\n",
       "      <td>0.894958</td>\n",
       "      <td>0.014916</td>\n",
       "    </tr>\n",
       "    <tr>\n",
       "      <th>...</th>\n",
       "      <td>...</td>\n",
       "      <td>...</td>\n",
       "      <td>...</td>\n",
       "      <td>...</td>\n",
       "      <td>...</td>\n",
       "      <td>...</td>\n",
       "      <td>...</td>\n",
       "      <td>...</td>\n",
       "      <td>...</td>\n",
       "      <td>...</td>\n",
       "      <td>...</td>\n",
       "      <td>...</td>\n",
       "      <td>...</td>\n",
       "      <td>...</td>\n",
       "      <td>...</td>\n",
       "      <td>...</td>\n",
       "      <td>...</td>\n",
       "      <td>...</td>\n",
       "      <td>...</td>\n",
       "      <td>...</td>\n",
       "      <td>...</td>\n",
       "    </tr>\n",
       "    <tr>\n",
       "      <th>25963</th>\n",
       "      <td>0.359176</td>\n",
       "      <td>0.129008</td>\n",
       "      <td>1.000000</td>\n",
       "      <td>4.8</td>\n",
       "      <td>0.569240</td>\n",
       "      <td>-4.7</td>\n",
       "      <td>2.990497</td>\n",
       "      <td>1.729305</td>\n",
       "      <td>1.730655</td>\n",
       "      <td>-0.759101</td>\n",
       "      <td>...</td>\n",
       "      <td>558.0</td>\n",
       "      <td>558.0</td>\n",
       "      <td>33480.0</td>\n",
       "      <td>-0.088235</td>\n",
       "      <td>-0.101770</td>\n",
       "      <td>-0.001696</td>\n",
       "      <td>6.046368</td>\n",
       "      <td>0.100773</td>\n",
       "      <td>0.424370</td>\n",
       "      <td>0.007073</td>\n",
       "    </tr>\n",
       "    <tr>\n",
       "      <th>25964</th>\n",
       "      <td>0.148380</td>\n",
       "      <td>0.022017</td>\n",
       "      <td>-0.332820</td>\n",
       "      <td>30.1</td>\n",
       "      <td>1.788025</td>\n",
       "      <td>-19.2</td>\n",
       "      <td>81.063489</td>\n",
       "      <td>9.003526</td>\n",
       "      <td>9.003536</td>\n",
       "      <td>-1.582502</td>\n",
       "      <td>...</td>\n",
       "      <td>297.0</td>\n",
       "      <td>297.0</td>\n",
       "      <td>17820.0</td>\n",
       "      <td>0.003151</td>\n",
       "      <td>1.292920</td>\n",
       "      <td>0.021549</td>\n",
       "      <td>1.030912</td>\n",
       "      <td>0.017182</td>\n",
       "      <td>0.288866</td>\n",
       "      <td>0.004814</td>\n",
       "    </tr>\n",
       "    <tr>\n",
       "      <th>25965</th>\n",
       "      <td>0.215224</td>\n",
       "      <td>0.046321</td>\n",
       "      <td>-0.332820</td>\n",
       "      <td>2.3</td>\n",
       "      <td>2.199944</td>\n",
       "      <td>-2.3</td>\n",
       "      <td>1.113456</td>\n",
       "      <td>1.055204</td>\n",
       "      <td>1.055462</td>\n",
       "      <td>-2.813053</td>\n",
       "      <td>...</td>\n",
       "      <td>129.0</td>\n",
       "      <td>129.0</td>\n",
       "      <td>7740.0</td>\n",
       "      <td>-0.025210</td>\n",
       "      <td>-0.508850</td>\n",
       "      <td>-0.008481</td>\n",
       "      <td>-0.387944</td>\n",
       "      <td>-0.006466</td>\n",
       "      <td>0.266807</td>\n",
       "      <td>0.004447</td>\n",
       "    </tr>\n",
       "    <tr>\n",
       "      <th>25966</th>\n",
       "      <td>0.323106</td>\n",
       "      <td>0.104398</td>\n",
       "      <td>0.055085</td>\n",
       "      <td>3.9</td>\n",
       "      <td>2.669851</td>\n",
       "      <td>-4.0</td>\n",
       "      <td>1.059364</td>\n",
       "      <td>1.029254</td>\n",
       "      <td>1.029644</td>\n",
       "      <td>-3.565188</td>\n",
       "      <td>...</td>\n",
       "      <td>170.0</td>\n",
       "      <td>170.0</td>\n",
       "      <td>10200.0</td>\n",
       "      <td>0.213235</td>\n",
       "      <td>-2.187611</td>\n",
       "      <td>-0.036460</td>\n",
       "      <td>-2.425039</td>\n",
       "      <td>-0.040417</td>\n",
       "      <td>0.195378</td>\n",
       "      <td>0.003256</td>\n",
       "    </tr>\n",
       "    <tr>\n",
       "      <th>25967</th>\n",
       "      <td>0.755327</td>\n",
       "      <td>0.570519</td>\n",
       "      <td>0.666667</td>\n",
       "      <td>2.8</td>\n",
       "      <td>1.176677</td>\n",
       "      <td>-3.1</td>\n",
       "      <td>1.172364</td>\n",
       "      <td>1.082758</td>\n",
       "      <td>1.083128</td>\n",
       "      <td>-1.319380</td>\n",
       "      <td>...</td>\n",
       "      <td>327.0</td>\n",
       "      <td>327.0</td>\n",
       "      <td>19620.0</td>\n",
       "      <td>0.198004</td>\n",
       "      <td>-0.454867</td>\n",
       "      <td>-0.007581</td>\n",
       "      <td>-0.710974</td>\n",
       "      <td>-0.011850</td>\n",
       "      <td>-1.293067</td>\n",
       "      <td>-0.021551</td>\n",
       "    </tr>\n",
       "  </tbody>\n",
       "</table>\n",
       "<p>25968 rows × 66 columns</p>\n",
       "</div>"
      ],
      "text/plain": [
       "       sensor_02__standard_deviation  sensor_02__variance  sensor_02__maximum  \\\n",
       "0                           0.137143             0.018808            1.000000   \n",
       "1                           0.487898             0.238044           -0.666153   \n",
       "2                           0.168910             0.028530           -0.666153   \n",
       "3                           0.195813             0.038343            1.000000   \n",
       "4                           0.163504             0.026734            1.333333   \n",
       "...                              ...                  ...                 ...   \n",
       "25963                       0.359176             0.129008            1.000000   \n",
       "25964                       0.148380             0.022017           -0.332820   \n",
       "25965                       0.215224             0.046321           -0.332820   \n",
       "25966                       0.323106             0.104398            0.055085   \n",
       "25967                       0.755327             0.570519            0.666667   \n",
       "\n",
       "       sensor_08__maximum  sensor_04__maximum  sensor_08__minimum  \\\n",
       "0                     2.3            0.971886                -1.7   \n",
       "1                     2.3            3.661950                -3.0   \n",
       "2                     4.6            5.368985                -5.0   \n",
       "3                     5.0            0.543682                -5.7   \n",
       "4                     2.8            1.485148                -1.7   \n",
       "...                   ...                 ...                 ...   \n",
       "25963                 4.8            0.569240                -4.7   \n",
       "25964                30.1            1.788025               -19.2   \n",
       "25965                 2.3            2.199944                -2.3   \n",
       "25966                 3.9            2.669851                -4.0   \n",
       "25967                 2.8            1.176677                -3.1   \n",
       "\n",
       "       sensor_08__variance  sensor_08__standard_deviation  \\\n",
       "0                 0.726497                       0.852348   \n",
       "1                 1.190208                       1.090967   \n",
       "2                 2.853567                       1.689250   \n",
       "3                 3.879808                       1.969723   \n",
       "4                 0.958475                       0.979017   \n",
       "...                    ...                            ...   \n",
       "25963             2.990497                       1.729305   \n",
       "25964            81.063489                       9.003526   \n",
       "25965             1.113456                       1.055204   \n",
       "25966             1.059364                       1.029254   \n",
       "25967             1.172364                       1.082758   \n",
       "\n",
       "       sensor_08__root_mean_square  sensor_04__minimum  ...  subject__median  \\\n",
       "0                         0.852936           -1.604398  ...             47.0   \n",
       "1                         1.093542           -1.417513  ...             66.0   \n",
       "2                         1.689280           -8.250281  ...             66.0   \n",
       "3                         1.970237           -0.698962  ...            542.0   \n",
       "4                         0.980561           -1.124221  ...            437.0   \n",
       "...                            ...                 ...  ...              ...   \n",
       "25963                     1.730655           -0.759101  ...            558.0   \n",
       "25964                     9.003536           -1.582502  ...            297.0   \n",
       "25965                     1.055462           -2.813053  ...            129.0   \n",
       "25966                     1.029644           -3.565188  ...            170.0   \n",
       "25967                     1.083128           -1.319380  ...            327.0   \n",
       "\n",
       "       subject__mean  subject__sum_values  sensor_01__median  \\\n",
       "0               47.0               2820.0           0.191702   \n",
       "1               66.0               3960.0           0.001576   \n",
       "2               66.0               3960.0           0.120273   \n",
       "3              542.0              32520.0           0.051471   \n",
       "4              437.0              26220.0           0.060399   \n",
       "...              ...                  ...                ...   \n",
       "25963          558.0              33480.0          -0.088235   \n",
       "25964          297.0              17820.0           0.003151   \n",
       "25965          129.0               7740.0          -0.025210   \n",
       "25966          170.0              10200.0           0.213235   \n",
       "25967          327.0              19620.0           0.198004   \n",
       "\n",
       "       sensor_03__sum_values  sensor_03__mean  sensor_00__sum_values  \\\n",
       "0                   2.052212         0.034204               2.504637   \n",
       "1                   7.209735         0.120162              -4.157651   \n",
       "2                  -1.487611        -0.024794              -0.092736   \n",
       "3                   2.008850         0.033481               1.792117   \n",
       "4                  -3.376106        -0.056268               3.547913   \n",
       "...                      ...              ...                    ...   \n",
       "25963              -0.101770        -0.001696               6.046368   \n",
       "25964               1.292920         0.021549               1.030912   \n",
       "25965              -0.508850        -0.008481              -0.387944   \n",
       "25966              -2.187611        -0.036460              -2.425039   \n",
       "25967              -0.454867        -0.007581              -0.710974   \n",
       "\n",
       "       sensor_00__mean  sensor_01__sum_values  sensor_01__mean  \n",
       "0             0.041744              -0.781513        -0.013025  \n",
       "1            -0.069294              -1.197479        -0.019958  \n",
       "2            -0.001546               1.500000         0.025000  \n",
       "3             0.029869              -2.950630        -0.049177  \n",
       "4             0.059132               0.894958         0.014916  \n",
       "...                ...                    ...              ...  \n",
       "25963         0.100773               0.424370         0.007073  \n",
       "25964         0.017182               0.288866         0.004814  \n",
       "25965        -0.006466               0.266807         0.004447  \n",
       "25966        -0.040417               0.195378         0.003256  \n",
       "25967        -0.011850              -1.293067        -0.021551  \n",
       "\n",
       "[25968 rows x 66 columns]"
      ]
     },
     "execution_count": 167,
     "metadata": {},
     "output_type": "execute_result"
    }
   ],
   "source": [
    "# Select features which might be interesting (select appropriate columns)\n",
    "X_train_selected = select_features(train_X, y)\n",
    "X_train_selected"
   ]
  },
  {
   "cell_type": "code",
   "execution_count": 168,
   "id": "bdb20c9f",
   "metadata": {},
   "outputs": [],
   "source": [
    "# Select the same columns for test data (on which we will make predictions)\n",
    "X_test_selected = test_X[X_train_selected.columns]"
   ]
  },
  {
   "cell_type": "markdown",
   "id": "56c2e62d",
   "metadata": {},
   "source": [
    "We have two DataFrames - *X_train_selected* and *X_test_selected*. Both frames have same variables which are relevant features extracted from basic statistics provided by *tsfresh* package. "
   ]
  },
  {
   "cell_type": "markdown",
   "id": "29903cc0",
   "metadata": {},
   "source": [
    "# XGBoost"
   ]
  },
  {
   "cell_type": "markdown",
   "id": "2adfcc9f",
   "metadata": {},
   "source": [
    "Gradient boosting is a ensemble method that combine predictions of several models. XGBoost is an *extreme* GB which provides additional features focused on speed and performance. "
   ]
  },
  {
   "cell_type": "code",
   "execution_count": 169,
   "id": "c84a109d",
   "metadata": {},
   "outputs": [],
   "source": [
    "from xgboost import XGBClassifier"
   ]
  },
  {
   "cell_type": "markdown",
   "id": "483e387b",
   "metadata": {},
   "source": [
    "### Model creation"
   ]
  },
  {
   "cell_type": "markdown",
   "id": "47c2a38e",
   "metadata": {},
   "source": [
    "***NOTE***: in this scenario, we don't use cross-validation as our dataset is classified as *large* (1.5 million observations). We have sufficient data to fit the model on training set and evaluate it on test set. Here, we can use cross-validation only for educational purposes."
   ]
  },
  {
   "cell_type": "code",
   "execution_count": 170,
   "id": "00ca526a",
   "metadata": {},
   "outputs": [],
   "source": [
    "from sklearn.model_selection import train_test_split\n",
    "\n",
    "# Split matrices into random train and test subsets\n",
    "X_train, X_test, y_train, y_test = train_test_split(X_train_selected, y)"
   ]
  },
  {
   "cell_type": "markdown",
   "id": "9c50aca1",
   "metadata": {},
   "source": [
    "#### Parameter tuning"
   ]
  },
  {
   "cell_type": "markdown",
   "id": "a184cff4",
   "metadata": {},
   "source": [
    "In `XGBClassifier` class, we used few parameters:\n",
    "- `n_estimators` - the number of models we include in the ensemble\n",
    "- `early_stopping_rounds` - stop iteration after validation score stops inproving\n",
    "- `learning_rate` - size of the step in every iteration\n",
    "- `n_jobs` - equal to number of cores on the machine"
   ]
  },
  {
   "cell_type": "code",
   "execution_count": 171,
   "id": "5e82f62b",
   "metadata": {},
   "outputs": [],
   "source": [
    "from xgboost import XGBClassifier\n",
    "\n",
    "# Create the model\n",
    "model = XGBClassifier(n_estimators = 1000, \n",
    "                      early_stopping_rounds = 5, \n",
    "                      learning_rate = 0.05, \n",
    "                      n_jobs = 2)"
   ]
  },
  {
   "cell_type": "code",
   "execution_count": 172,
   "id": "a7bba66e",
   "metadata": {},
   "outputs": [
    {
     "name": "stdout",
     "output_type": "stream",
     "text": [
      "CPU times: user 1min 25s, sys: 40.5 ms, total: 1min 25s\n",
      "Wall time: 43 s\n"
     ]
    },
    {
     "data": {
      "text/plain": [
       "XGBClassifier(base_score=0.5, booster='gbtree', callbacks=None,\n",
       "              colsample_bylevel=1, colsample_bynode=1, colsample_bytree=1,\n",
       "              early_stopping_rounds=5, enable_categorical=False,\n",
       "              eval_metric=None, gamma=0, gpu_id=-1, grow_policy='depthwise',\n",
       "              importance_type=None, interaction_constraints='',\n",
       "              learning_rate=0.05, max_bin=256, max_cat_to_onehot=4,\n",
       "              max_delta_step=0, max_depth=6, max_leaves=0, min_child_weight=1,\n",
       "              missing=nan, monotone_constraints='()', n_estimators=1000,\n",
       "              n_jobs=2, num_parallel_tree=1, predictor='auto', random_state=0,\n",
       "              reg_alpha=0, reg_lambda=1, ...)"
      ]
     },
     "execution_count": 172,
     "metadata": {},
     "output_type": "execute_result"
    }
   ],
   "source": [
    "%%time\n",
    "\n",
    "# Fit the model with X_train and y_train data \n",
    "model.fit(X_train, \n",
    "          y_train,\n",
    "          eval_set=[(X_test, y_test)], \n",
    "          verbose=False)"
   ]
  },
  {
   "cell_type": "markdown",
   "id": "7b6b0ef5",
   "metadata": {},
   "source": [
    "### Model evaluation"
   ]
  },
  {
   "cell_type": "markdown",
   "id": "c576c698",
   "metadata": {},
   "source": [
    "We use confusion matrix and F1 score to evaluate the model"
   ]
  },
  {
   "cell_type": "code",
   "execution_count": 173,
   "id": "43b4cced",
   "metadata": {},
   "outputs": [
    {
     "data": {
      "image/png": "[encoded data removed]",
      "text/plain": [
       "<Figure size 432x288 with 2 Axes>"
      ]
     },
     "metadata": {
      "needs_background": "light"
     },
     "output_type": "display_data"
    }
   ],
   "source": [
    "from sklearn.metrics import f1_score, plot_confusion_matrix\n",
    "\n",
    "# Create confusion matrix\n",
    "plot_confusion_matrix(model, X_test, y_test)\n",
    "\n",
    "# Make prediction based on test_X\n",
    "xgb_prediction = model.predict(X_test)"
   ]
  },
  {
   "cell_type": "code",
   "execution_count": 174,
   "id": "4fa916b2",
   "metadata": {},
   "outputs": [
    {
     "name": "stdout",
     "output_type": "stream",
     "text": [
      "F1 Score of the classifier is: 0.8293116210214655\n"
     ]
    }
   ],
   "source": [
    "# Calculating the F1 score of classifier\n",
    "print(f\"F1 Score of the classifier is: {f1_score(y_test, xgb_prediction)}\")"
   ]
  },
  {
   "cell_type": "markdown",
   "id": "e3804435",
   "metadata": {},
   "source": [
    "### Prediction"
   ]
  },
  {
   "cell_type": "code",
   "execution_count": 175,
   "id": "78c2734a",
   "metadata": {},
   "outputs": [],
   "source": [
    "prediction_values = model.predict(X_test_selected)"
   ]
  },
  {
   "cell_type": "markdown",
   "id": "0bebf0d2",
   "metadata": {},
   "source": [
    "# Submission"
   ]
  },
  {
   "cell_type": "code",
   "execution_count": 176,
   "id": "cdfdf894",
   "metadata": {},
   "outputs": [],
   "source": [
    "sample_sub = pd.read_csv(\"sample_submission.csv\")\n",
    "\n",
    "submission = pd.DataFrame({\n",
    "    \"sequence\" : sample_sub.sequence,\n",
    "    \"state\" : prediction_values\n",
    "})\n",
    "\n",
    "submission.to_csv(\"submission.csv\", index=False)"
   ]
  }
 ],
 "metadata": {
  "kernelspec": {
   "display_name": "Python 3 (ipykernel)",
   "language": "python",
   "name": "python3"
  },
  "language_info": {
   "codemirror_mode": {
    "name": "ipython",
    "version": 3
   },
   "file_extension": ".py",
   "mimetype": "text/x-python",
   "name": "python",
   "nbconvert_exporter": "python",
   "pygments_lexer": "ipython3",
   "version": "3.9.7"
  }
 },
 "nbformat": 4,
 "nbformat_minor": 5
}
